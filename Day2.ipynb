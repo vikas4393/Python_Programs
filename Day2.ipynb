{
 "cells": [
  {
   "cell_type": "code",
   "execution_count": 26,
   "metadata": {},
   "outputs": [
    {
     "name": "stdout",
     "output_type": "stream",
     "text": [
      "120\n",
      "120\n"
     ]
    }
   ],
   "source": [
    "# 21. Write a Python program to find the factorial of a number.\n",
    "\n",
    "def fact(n):\n",
    "    result = 1\n",
    "    if n < 0:\n",
    "        return 0\n",
    "    else:\n",
    "        for i in range(1,n+1):\n",
    "            result = result * i\n",
    "        return result\n",
    "\n",
    "print(fact(5))\n",
    "\n",
    "# =============================================================\n",
    "# using recursion\n",
    "\n",
    "def factorial(n):\n",
    "    if n < 0:\n",
    "        return None\n",
    "    elif n == 0:\n",
    "        return 1\n",
    "    return (n * factorial(n-1))\n",
    "    \n",
    "print(factorial(5))"
   ]
  },
  {
   "cell_type": "code",
   "execution_count": 33,
   "metadata": {},
   "outputs": [
    {
     "name": "stdout",
     "output_type": "stream",
     "text": [
      "56\n",
      "56\n"
     ]
    }
   ],
   "source": [
    "# 22. Write a Python program to find the largest element in a list.\n",
    "\n",
    "def get_largest(x):\n",
    "    large = x[0]\n",
    "    for ele in x:\n",
    "        if ele > large:\n",
    "            large = ele\n",
    "    return large\n",
    "\n",
    "x = [5,3,9,7,1,56,45]\n",
    "print(get_largest(x))\n",
    "\n",
    "# ==================================================================\n",
    "# using list's sorted method\n",
    "\n",
    "x = [5,3,9,7,1,56,45]\n",
    "x = sorted(x)\n",
    "print(x[-1])"
   ]
  },
  {
   "cell_type": "code",
   "execution_count": 44,
   "metadata": {},
   "outputs": [
    {
     "name": "stdout",
     "output_type": "stream",
     "text": [
      "[3, 4, 5]\n",
      "[3, 4, 5]\n",
      "[1, 2, 3, 5]\n"
     ]
    }
   ],
   "source": [
    "# 23. Write a Python program to find the common elements between two lists.\n",
    "\n",
    "def common(x,y):\n",
    "    result = []\n",
    "    for i in x:\n",
    "        for j in y:\n",
    "            if i == j:\n",
    "                result.append(i)\n",
    "    return result\n",
    "\n",
    "x = [1,2,3,4,5]\n",
    "y = [3,4,5,6,7]\n",
    "print(common(x,y))\n",
    "\n",
    "# ========================================================================\n",
    "# using single for loop\n",
    "\n",
    "def find_common(x,y):\n",
    "    common = []\n",
    "    for ele in x:\n",
    "        if ele in y:\n",
    "            common.append(ele)\n",
    "    return common\n",
    "\n",
    "print(find_common(x,y))"
   ]
  },
  {
   "cell_type": "code",
   "execution_count": 45,
   "metadata": {},
   "outputs": [
    {
     "name": "stdout",
     "output_type": "stream",
     "text": [
      "[2, 2, 4, 4, 5, 6, 6, 7, 9]\n"
     ]
    }
   ],
   "source": [
    "# 24. Write a Python program to sort a list of elements using the bubble sort algorithm.\n",
    "\n",
    "def bub_sort(lst):\n",
    "    n = len(lst)\n",
    "    for i in range(n):\n",
    "        for j in range(n-1):\n",
    "            if lst[j] > lst[j+1]:\n",
    "                lst[j],lst[j+1]=lst[j+1],lst[j]\n",
    "    return lst\n",
    "\n",
    "x = [2, 6, 5, 4, 2, 9, 7, 4, 6]\n",
    "print(bub_sort(x))\n"
   ]
  },
  {
   "cell_type": "code",
   "execution_count": 47,
   "metadata": {},
   "outputs": [
    {
     "name": "stdout",
     "output_type": "stream",
     "text": [
      "7\n"
     ]
    }
   ],
   "source": [
    "# 25. Write a Python program to find the second largest number in a list.\n",
    "\n",
    "def second_largest(x):\n",
    "    large = x[0]\n",
    "    second = x[0]\n",
    "    for ele in x:\n",
    "        if ele > large:\n",
    "            second = large\n",
    "            large = ele\n",
    "        elif ele > second and x != large:\n",
    "            second = ele\n",
    "    return second\n",
    "\n",
    "lst = [3,2,5,1,8,5,7,3]\n",
    "print(second_largest(lst))"
   ]
  },
  {
   "cell_type": "code",
   "execution_count": 48,
   "metadata": {},
   "outputs": [
    {
     "name": "stdout",
     "output_type": "stream",
     "text": [
      "[1, 2, 3, 5]\n"
     ]
    }
   ],
   "source": [
    "# 26. Write a Python program to remove duplicates from a list.\n",
    "\n",
    "def find_duplicates(x):\n",
    "    duplicates = []\n",
    "    i = 1\n",
    "    for ele in x:\n",
    "        if ele in x[i:]:\n",
    "            duplicates.append(ele)\n",
    "        i += 1\n",
    "    return duplicates\n",
    "\n",
    "x1 = [1,2,3,1,2,4,5,6,3,5]\n",
    "print(find_duplicates(x1))"
   ]
  },
  {
   "cell_type": "code",
   "execution_count": 56,
   "metadata": {},
   "outputs": [
    {
     "name": "stdout",
     "output_type": "stream",
     "text": [
      "[7, 2, 3, 4, 5, 6, 1]\n",
      "(7, 2, 3, 4, 5, 6, 1)\n"
     ]
    }
   ],
   "source": [
    "# 27. Python program to interchange first and last elements in a list.\n",
    "\n",
    "def interchange(x):\n",
    "    x[0],x[-1] = x[-1],x[0]\n",
    "    return x\n",
    "\n",
    "lst = [1,2,3,4,5,6,7]\n",
    "print(interchange(lst))\n",
    "\n",
    "# ==================================================================\n",
    "def change(x):\n",
    "    a,*b,c = x\n",
    "    x = c,*b,a\n",
    "    return x\n",
    "\n",
    "lst = [1,2,3,4,5,6,7]\n",
    "print(change(lst))"
   ]
  },
  {
   "cell_type": "code",
   "execution_count": 65,
   "metadata": {},
   "outputs": [
    {
     "name": "stdout",
     "output_type": "stream",
     "text": [
      "[1, 6, 3, 4, 5, 2, 7]\n",
      "[1, 6, 3, 4, 5, 2, 7]\n"
     ]
    }
   ],
   "source": [
    "# 28. Python program to swap two elements in a list\n",
    "# using indexes as input\n",
    "\n",
    "def swap(x,i,j):\n",
    "    x[i],x[j] = x[j],x[i]\n",
    "    return x\n",
    "\n",
    "lst = [1,2,3,4,5,6,7]\n",
    "print(swap(lst,1,5))\n",
    "\n",
    "# =================================================\n",
    "# using values as input\n",
    "\n",
    "def swap_val(x,a,b):\n",
    "    i = x.index(a)\n",
    "    j = x.index(b)\n",
    "    x[i],x[j]=x[j],x[i]\n",
    "    return x\n",
    "\n",
    "lst = [1,2,3,4,5,6,7]\n",
    "print(swap_val(lst,6,2))"
   ]
  },
  {
   "cell_type": "code",
   "execution_count": 67,
   "metadata": {},
   "outputs": [
    {
     "name": "stdout",
     "output_type": "stream",
     "text": [
      "Smallest=0, Largest=9\n"
     ]
    }
   ],
   "source": [
    "# 29. Python program to find the smallest and largest number in a list\n",
    "\n",
    "def min_max(x):\n",
    "    small = x[0]\n",
    "    large = x[0]\n",
    "    for ele in x:\n",
    "        if ele < small:\n",
    "            small = ele\n",
    "        elif ele > large:\n",
    "            large = ele\n",
    "    return small,large\n",
    "\n",
    "lst = [3,9,1,7,5,3,0,6]\n",
    "Smallest,Largest = min_max(lst)\n",
    "print(f'{Smallest=}, {Largest=}')"
   ]
  },
  {
   "cell_type": "code",
   "execution_count": 72,
   "metadata": {},
   "outputs": [
    {
     "name": "stdout",
     "output_type": "stream",
     "text": [
      "50.27\n"
     ]
    }
   ],
   "source": [
    "# 30. Python Program to find the area of a circle\n",
    "import math\n",
    "def areaCircle(r):\n",
    "    area = math.pi*(r*r)\n",
    "    return round(area,2)\n",
    "\n",
    "print(areaCircle(4))"
   ]
  },
  {
   "cell_type": "code",
   "execution_count": 77,
   "metadata": {},
   "outputs": [
    {
     "name": "stdout",
     "output_type": "stream",
     "text": [
      "[1, 2, 4, 5, 6]\n",
      "[1, 2, 4, 5, 6]\n"
     ]
    }
   ],
   "source": [
    "# Python Program to remove element from list\n",
    "# using remove -> it takes value\n",
    "def remove1(x,n):\n",
    "    x.remove(n)\n",
    "    return x\n",
    "    \n",
    "lst1 = [1,2,3,4,5,6]\n",
    "print(remove1(lst1,3))\n",
    "\n",
    "# ===============================================\n",
    "# using pop -> it takes index\n",
    "def remove2(x,n):\n",
    "    x.pop(x.index(n))\n",
    "    return x\n",
    " \n",
    "lst2 = [1,2,3,4,5,6]   \n",
    "print(remove2(lst2,3))"
   ]
  },
  {
   "cell_type": "code",
   "execution_count": 89,
   "metadata": {},
   "outputs": [
    {
     "name": "stdout",
     "output_type": "stream",
     "text": [
      "[1, 2, 3, 12, 4, 5, 6]\n",
      "[1, 2, 3, 12, 4, 5, 6]\n"
     ]
    }
   ],
   "source": [
    "# 32. Python Program to insert element in list at given index\n",
    "\n",
    "def insert1(lst,index,val):\n",
    "    lst.insert(index,val)\n",
    "    return lst\n",
    "\n",
    "lst1 = [1,2,3,4,5,6]\n",
    "print(insert1(lst1,3,12))\n",
    "\n",
    "# ===================================================\n",
    "# without using insert\n",
    "def insert2(lst,index,val):\n",
    "    lst = lst[:index] + [val] + lst[index:]\n",
    "    return lst\n",
    "\n",
    "lst2 = [1,2,3,4,5,6]\n",
    "print(insert2(lst2,3,12))"
   ]
  },
  {
   "cell_type": "code",
   "execution_count": 90,
   "metadata": {},
   "outputs": [
    {
     "name": "stdout",
     "output_type": "stream",
     "text": [
      "[1, 4, 9, 16, 25]\n"
     ]
    }
   ],
   "source": [
    "# 33. You are given a list of integer elements. Make a new list that will store a square of elements of the previous list.\n",
    "x = [1,2,3,4,5]\n",
    "\n",
    "y = [i*i for i in x]\n",
    "print(y)"
   ]
  },
  {
   "cell_type": "code",
   "execution_count": 94,
   "metadata": {},
   "outputs": [
    {
     "name": "stdout",
     "output_type": "stream",
     "text": [
      "for 4 the list is [0, 4, 8, 12, 16, 20, 24, 28, 32, 36, 40, 44, 48]\n",
      "for 6 the list is [0, 6, 12, 18, 24, 30, 36, 42, 48]\n",
      "for 8 the list is [0, 8, 16, 24, 32, 40, 48]\n",
      "for 10 the list is [0, 10, 20, 30, 40, 50]\n",
      "for 3 the list is [0, 3, 6, 9, 12, 15, 18, 21, 24, 27, 30, 33, 36, 39, 42, 45, 48]\n",
      "for 5 the list is [0, 5, 10, 15, 20, 25, 30, 35, 40, 45, 50]\n",
      "for 7 the list is [0, 7, 14, 21, 28, 35, 42, 49]\n",
      "for 9 the list is [0, 9, 18, 27, 36, 45]\n"
     ]
    }
   ],
   "source": [
    "# 34. WAP to make new lists, containing only numbers which are divisible by 4, 6, 8, 10, 3, 5, 7, and 9 in separate lists for range(0,51)\n",
    "\n",
    "def create_lists(n,divisor):\n",
    "    lst = list()\n",
    "    for i in range(n):\n",
    "        if i % divisor == 0:\n",
    "            lst.append(i)\n",
    "    return lst\n",
    "\n",
    "divisor_list = [4, 6, 8, 10, 3, 5, 7, 9]\n",
    "\n",
    "for x in divisor_list:\n",
    "    lst = create_lists(51,x)\n",
    "    print(f'for {x} the list is {lst}')\n"
   ]
  },
  {
   "cell_type": "code",
   "execution_count": 101,
   "metadata": {},
   "outputs": [
    {
     "name": "stdout",
     "output_type": "stream",
     "text": [
      "integers=[1, 2], strings=['x', 'y'], floats=[2.4, 6.5]\n"
     ]
    }
   ],
   "source": [
    "# 35. From a list containing ints, strings, and floats, make three lists to store them separately\n",
    "\n",
    "def seg(x):\n",
    "    integers,strings,floats=list(),list(),list()\n",
    "    for ele in x:\n",
    "        if isinstance(ele,int):\n",
    "            integers.append(ele)\n",
    "        elif isinstance(ele,str):\n",
    "            strings.append(ele)\n",
    "        elif isinstance(ele,float):\n",
    "            floats.append(ele)\n",
    "    return integers,strings,floats\n",
    "\n",
    "lst = [1,2,'x',2.4,6.5,'y']\n",
    "integers,strings,floats = seg(lst)\n",
    "print(f'{integers=}, {strings=}, {floats=}')"
   ]
  },
  {
   "cell_type": "code",
   "execution_count": 114,
   "metadata": {},
   "outputs": [
    {
     "name": "stdout",
     "output_type": "stream",
     "text": [
      "60\n"
     ]
    }
   ],
   "source": [
    "# 36. Write a Python program to find the third-largest number in a list\n",
    "\n",
    "def third_largest(x):\n",
    "    large = x[0]\n",
    "    second = x[0]\n",
    "    third = x[0]\n",
    "    for ele in x:\n",
    "        if ele > large:\n",
    "            third = second\n",
    "            second = large\n",
    "            large = ele\n",
    "        elif ele > second and ele != large:\n",
    "            third = second\n",
    "            second = ele\n",
    "        elif ele > third and ele != large and ele != second:\n",
    "            third = ele\n",
    "    return third\n",
    "\n",
    "x = [10,20,90,40,50,80,60]\n",
    "\n",
    "print(third_largest(x))"
   ]
  },
  {
   "cell_type": "code",
   "execution_count": 117,
   "metadata": {},
   "outputs": [
    {
     "name": "stdout",
     "output_type": "stream",
     "text": [
      "True\n"
     ]
    }
   ],
   "source": [
    "# 37. Write a Python program to check whether a list contains a sublist\n",
    "\n",
    "def issublist(main,sub):\n",
    "    for i in range(len(main)-len(sub)+1):\n",
    "        if main[i:i+len(sub)] == sub:\n",
    "            return True\n",
    "    return False\n",
    "\n",
    "x = [1,2,3,4,5,6]\n",
    "y = [2,3,4]\n",
    "\n",
    "print(issublist(x,y))"
   ]
  },
  {
   "cell_type": "code",
   "execution_count": 121,
   "metadata": {},
   "outputs": [
    {
     "name": "stdout",
     "output_type": "stream",
     "text": [
      "[[1], [1, 2], [1, 2, 3], [2], [2, 3], [3]]\n"
     ]
    }
   ],
   "source": [
    "# 38. Write a Python program to generate all sublists of a list\n",
    "\n",
    "def sublist(x):\n",
    "    sublists = []\n",
    "    for i in range(len(x)):\n",
    "        for j in range(i+1,len(x)+1):\n",
    "            sublists.append(x[i:j])\n",
    "    return sublists\n",
    "\n",
    "lst = [1,2,3]\n",
    "print(sublist(lst))"
   ]
  },
  {
   "cell_type": "code",
   "execution_count": 124,
   "metadata": {},
   "outputs": [
    {
     "name": "stdout",
     "output_type": "stream",
     "text": [
      "[1, 2, 3, 4, 5, 8, 9]\n",
      "[9, 8, 5, 4, 3, 2, 1]\n"
     ]
    }
   ],
   "source": [
    "# 39. How to sort a list in ascending and descending order without using the sort function?\n",
    "\n",
    "def sort_asc(x):\n",
    "    for i in range(len(x)):\n",
    "        for j in range(len(x)-1):\n",
    "            if x[j] > x[j+1]:\n",
    "                x[j],x[j+1]=x[j+1],x[j]\n",
    "    return x\n",
    "\n",
    "def sort_dsc(x):\n",
    "    for i in range(len(x)):\n",
    "        for j in range(len(x)-1):\n",
    "            if x[j] < x[j+1]:\n",
    "                x[j],x[j+1]=x[j+1],x[j]\n",
    "    return x\n",
    "\n",
    "\n",
    "lst = [3,8,5,1,9,4,2]\n",
    "print(sort_asc(lst))\n",
    "print(sort_dsc(lst))"
   ]
  },
  {
   "cell_type": "code",
   "execution_count": 148,
   "metadata": {},
   "outputs": [
    {
     "name": "stdout",
     "output_type": "stream",
     "text": [
      "2345678\n"
     ]
    }
   ],
   "source": [
    "# 40. Write a Python program to convert a list of multiple integers into a single integer\n",
    "\n",
    "def combine(x):\n",
    "    #convert each element of list to string i.e ['2', '3', '4', '5', '6', '7', '8']\n",
    "    x = [str(i) for i in x]\n",
    "    # join the string using ''.join() method\n",
    "    return ''.join(x)\n",
    "\n",
    "lst = [2,3,4,5,6,7,8]\n",
    "print(combine(lst))"
   ]
  },
  {
   "cell_type": "code",
   "execution_count": null,
   "metadata": {},
   "outputs": [],
   "source": []
  }
 ],
 "metadata": {
  "kernelspec": {
   "display_name": "Python 3",
   "language": "python",
   "name": "python3"
  },
  "language_info": {
   "codemirror_mode": {
    "name": "ipython",
    "version": 3
   },
   "file_extension": ".py",
   "mimetype": "text/x-python",
   "name": "python",
   "nbconvert_exporter": "python",
   "pygments_lexer": "ipython3",
   "version": "3.11.0"
  }
 },
 "nbformat": 4,
 "nbformat_minor": 2
}
