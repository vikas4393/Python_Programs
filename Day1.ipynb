{
 "cells": [
  {
   "cell_type": "code",
   "execution_count": 1,
   "metadata": {},
   "outputs": [
    {
     "name": "stdout",
     "output_type": "stream",
     "text": [
      "True\n"
     ]
    }
   ],
   "source": [
    "# 1 . Write a program in Python for, How to compare two list is equal in size or not.\n",
    "\n",
    "def compare_lists(x,y):\n",
    "    if len(x) == len(y):\n",
    "        return True\n",
    "    return False\n",
    "\n",
    "x = [2,3,4,5,6]\n",
    "y = ['a','r',6,3,7]\n",
    "print(compare_lists(x,y))"
   ]
  },
  {
   "cell_type": "code",
   "execution_count": 34,
   "metadata": {},
   "outputs": [
    {
     "name": "stdout",
     "output_type": "stream",
     "text": [
      "Sorted List: [0, 1, 3, 4, 5, 6, 7, 9]\n"
     ]
    }
   ],
   "source": [
    "# 2 . Write a function which creates a new sorted list(union) out of two lists\n",
    "\n",
    "def sorted(x,y):\n",
    "    new_x = set(x)\n",
    "    new_y = set(y)\n",
    "    result = new_x.union(new_y)\n",
    "    return list(result)\n",
    "\n",
    "x = [4,5,6,1,0]\n",
    "y = [5,9,6,3,7]\n",
    "\n",
    "print('Sorted List:',sorted(x,y))"
   ]
  },
  {
   "cell_type": "code",
   "execution_count": 38,
   "metadata": {},
   "outputs": [
    {
     "name": "stdout",
     "output_type": "stream",
     "text": [
      "Area of rectangle: 48\n"
     ]
    }
   ],
   "source": [
    "# 3 . Write a Python program to calculate the area of a rectangle given its length and width\n",
    "\n",
    "def area_rect(l,w):\n",
    "    return l * w\n",
    "\n",
    "print('Area of rectangle:',area_rect(12,4))"
   ]
  },
  {
   "cell_type": "code",
   "execution_count": 41,
   "metadata": {},
   "outputs": [
    {
     "name": "stdout",
     "output_type": "stream",
     "text": [
      "Number is Odd\n"
     ]
    }
   ],
   "source": [
    "# 4 . Write a program to check if a number is even or odd\n",
    "\n",
    "def even_odd(num):\n",
    "    if num % 2 == 0:\n",
    "        return 'Even'\n",
    "    else:\n",
    "        return 'Odd'\n",
    "\n",
    "print('Number is',even_odd(-15))"
   ]
  },
  {
   "cell_type": "code",
   "execution_count": 46,
   "metadata": {},
   "outputs": [
    {
     "name": "stdout",
     "output_type": "stream",
     "text": [
      "even = 4, odd = 2\n"
     ]
    }
   ],
   "source": [
    "# 5 . Python program to Count Even and Odd numbers in a List\n",
    "\n",
    "def count_even_odd(lst):\n",
    "    even = odd = 0\n",
    "    for num in lst:\n",
    "        if num % 2 == 0:\n",
    "            even += 1\n",
    "        else:\n",
    "            odd += 1\n",
    "    return even,odd\n",
    "\n",
    "x = [-2,4,0,-8,3,9]\n",
    "even,odd = count_even_odd(x)\n",
    "print(f'{even = }, {odd = }')"
   ]
  },
  {
   "cell_type": "code",
   "execution_count": 54,
   "metadata": {},
   "outputs": [
    {
     "name": "stdout",
     "output_type": "stream",
     "text": [
      "even=[0, 2, 4, 6, 8, 10, 12, 14, 16, 18, 20, 22, 24, 26, 28, 30, 32, 34, 36, 38, 40, 42, 44, 46, 48, 50],\n",
      " odd=[1, 3, 5, 7, 9, 11, 13, 15, 17, 19, 21, 23, 25, 27, 29, 31, 33, 35, 37, 39, 41, 43, 45, 47, 49]\n"
     ]
    }
   ],
   "source": [
    "# 6 . WAP to create two lists, one containing all even numbers and the other containing all odd numbers between 0 to n\n",
    "\n",
    "def create_even_odd(n):\n",
    "    even = []\n",
    "    odd = []\n",
    "    for i in range(n+1):\n",
    "        if i % 2 == 0:\n",
    "            even.append(i)\n",
    "        else:\n",
    "            odd.append(i)\n",
    "    return even,odd\n",
    "\n",
    "even,odd = create_even_odd(50)\n",
    "print(f'{even=},\\n {odd=}')"
   ]
  },
  {
   "cell_type": "code",
   "execution_count": 66,
   "metadata": {},
   "outputs": [
    {
     "name": "stdout",
     "output_type": "stream",
     "text": [
      "0 is Non Prime\n",
      "1 is Non Prime\n",
      "2 is Prime\n",
      "3 is Prime\n",
      "4 is Non Prime\n",
      "5 is Prime\n",
      "6 is Non Prime\n",
      "7 is Prime\n",
      "8 is Non Prime\n",
      "9 is Non Prime\n",
      "10 is Non Prime\n",
      "11 is Prime\n",
      "12 is Non Prime\n",
      "13 is Prime\n",
      "14 is Non Prime\n",
      "15 is Non Prime\n",
      "16 is Non Prime\n",
      "17 is Prime\n",
      "18 is Non Prime\n",
      "19 is Prime\n"
     ]
    }
   ],
   "source": [
    "# 7 . Write a Python program to check if a number is prime.\n",
    "def is_prime(n):\n",
    "    if n < 2:\n",
    "        return 'Non Prime'\n",
    "    else:\n",
    "        for i in range(2, (n//2)+1):\n",
    "            if n % i == 0:\n",
    "                return 'Non Prime'\n",
    "        return 'Prime'\n",
    "\n",
    "for i in range(20):\n",
    "    print(f'{i} is',is_prime(i))"
   ]
  },
  {
   "cell_type": "code",
   "execution_count": 70,
   "metadata": {},
   "outputs": [
    {
     "name": "stdout",
     "output_type": "stream",
     "text": [
      "Min=3, Max=90\n"
     ]
    }
   ],
   "source": [
    "# 8 . Given a list of numbers, find the maximum and minimum values\n",
    "\n",
    "def min_max(lst):\n",
    "    min = max = lst[0]\n",
    "    for i in lst:\n",
    "        if i > max:\n",
    "            max = i\n",
    "        elif i < min:\n",
    "            min = i\n",
    "    return min,max\n",
    "\n",
    "x = [4,3,11,7,8,5,9,8,90]\n",
    "Min,Max = min_max(x)\n",
    "print(f'{Min=}, {Max=}')\n"
   ]
  },
  {
   "cell_type": "code",
   "execution_count": 73,
   "metadata": {},
   "outputs": [
    {
     "name": "stdout",
     "output_type": "stream",
     "text": [
      "Second_Largest=90\n"
     ]
    }
   ],
   "source": [
    "# 9 . Write a Python program to find the second largest number in a list.\n",
    "\n",
    "def second_largest(lst):\n",
    "    large = lst[0]\n",
    "    second_large = lst[0]\n",
    "    for num in lst:\n",
    "        if num > large:\n",
    "            second_large = large\n",
    "            large = num\n",
    "        elif num > second_large and num != large:\n",
    "            second_large = num\n",
    "    return second_large\n",
    "\n",
    "x = [4,3,11,7,18,5,99,8,90]\n",
    "Second_Largest = second_largest(x)\n",
    "print(f'{Second_Largest=}')"
   ]
  },
  {
   "cell_type": "code",
   "execution_count": 87,
   "metadata": {},
   "outputs": [
    {
     "name": "stdout",
     "output_type": "stream",
     "text": [
      "Yes\n",
      "Yes\n"
     ]
    }
   ],
   "source": [
    "# 10. Write a Python program to check if a given string is a palindrome\n",
    "\n",
    "def palindrome(strn):\n",
    "    if strn == strn[::-1]:\n",
    "        return 'Yes'\n",
    "    else:\n",
    "        return 'No'\n",
    "    \n",
    "s = 'dsaasd'\n",
    "print(palindrome(s))\n",
    "\n",
    "# =====================================================================\n",
    "# alternate\n",
    "\n",
    "def pali(strn):\n",
    "    n = len(strn)\n",
    "    Flag = None\n",
    "    for i in range(n):\n",
    "        if strn[i] == strn[n-1]:\n",
    "            Flag = 'Yes'\n",
    "            n -= 1\n",
    "        else:\n",
    "            Flag = 'No'\n",
    "    return Flag\n",
    "\n",
    "s = 'dsaasd'\n",
    "print(pali(s))"
   ]
  },
  {
   "cell_type": "code",
   "execution_count": 91,
   "metadata": {},
   "outputs": [
    {
     "name": "stdout",
     "output_type": "stream",
     "text": [
      "5386\n"
     ]
    }
   ],
   "source": [
    "# 11. Calculate the compound interest for a given principal amount, interest rate, and time period.\n",
    "# Formula = principle *(1 + interest_rate/100)**time_period - principle\n",
    "\n",
    "def compund_interest(p,n,r):\n",
    "    interest = p *(1 + r/100)**n - p\n",
    "    return int(interest)\n",
    "\n",
    "principle = 10000\n",
    "time_period = 5\n",
    "interest_rate = 9\n",
    "\n",
    "print(compund_interest(principle,time_period,interest_rate))"
   ]
  },
  {
   "cell_type": "code",
   "execution_count": 1,
   "metadata": {},
   "outputs": [
    {
     "name": "stdout",
     "output_type": "stream",
     "text": [
      "String Characters: {'K': 1, 'h': 1, 'a': 2, 'i': 1, 'r': 2, 'n': 1}\n",
      "List Items: {1: 3, 2: 1, 4: 2}\n",
      "Tuple Elements: {1: 2, 2: 2, 4: 1, 6: 1}\n",
      "String Characters: {'K': 1, 'h': 1, 'a': 2, 'i': 1, 'r': 2, 'n': 1}\n",
      "List Items: {1: 3, 2: 1, 4: 2}\n",
      "Tuple Elements: {1: 2, 2: 2, 4: 1, 6: 1}\n"
     ]
    }
   ],
   "source": [
    "# 12. Write a Python program to count each character in an iterable\n",
    "# dictionary get(key,value_to_return_if_key_not_found)\n",
    "\n",
    "def count_(iterable):\n",
    "    count = {}\n",
    "    for ele in iterable:\n",
    "        count[ele] = count.get(ele,0) + 1\n",
    "    return count\n",
    "\n",
    "x = 'Khairnar'\n",
    "y = [1,2,1,4,1,4]\n",
    "z = (1,2,1,4,2,6)\n",
    "\n",
    "print('String Characters:',count_(x))\n",
    "print('List Items:',count_(y))\n",
    "print('Tuple Elements:',count_(z))\n",
    "\n",
    "# ===================================================================\n",
    "# using list count method\n",
    "\n",
    "def count_list(iterable):\n",
    "    count = {}\n",
    "    for ele in iterable:\n",
    "        count[ele] = iterable.count(ele)\n",
    "    return count\n",
    "\n",
    "x1 = 'Khairnar'\n",
    "y1 = [1,2,1,4,1,4]\n",
    "z1 = (1,2,1,4,2,6)\n",
    "\n",
    "print('String Characters:',count_list(x1))\n",
    "print('List Items:',count_list(y1))\n",
    "print('Tuple Elements:',count_list(z1))"
   ]
  },
  {
   "cell_type": "code",
   "execution_count": 14,
   "metadata": {},
   "outputs": [
    {
     "name": "stdout",
     "output_type": "stream",
     "text": [
      "word_count = {'the': 2, 'crazy': 1, 'dog': 1, 'jumps': 1, 'over': 1, 'lazy': 1, 'ship': 1},\n",
      "total_word_count = 8\n"
     ]
    }
   ],
   "source": [
    "# 13. Write a Python program that takes a sentence as input and counts the number of words in it\n",
    "\n",
    "def count_words(txt):\n",
    "    for char in txt:\n",
    "        if char in '\",.!?@#$%*;:`':\n",
    "            txt = txt.replace(char,'')\n",
    "\n",
    "    txt = txt.lower()\n",
    "    words = txt.split(' ')\n",
    "    total_word_count = len(words)\n",
    "    word_count = {}\n",
    "    \n",
    "    for word in words:\n",
    "        word_count[word] = word_count.get(word,0) + 1\n",
    "    return word_count,total_word_count\n",
    "        \n",
    "sent = 'The \"Crazy Dog\" Jumps Over, The Lazy Ship.'\n",
    "\n",
    "word_count,total_word_count = count_words(sent)\n",
    "print(f'{word_count = },\\n{total_word_count = }')"
   ]
  },
  {
   "cell_type": "code",
   "execution_count": 18,
   "metadata": {},
   "outputs": [
    {
     "name": "stdout",
     "output_type": "stream",
     "text": [
      "{'t': 2, 'h': 3, 'e': 3, ' ': 7, '\"': 2, 'c': 1, 'r': 2, 'a': 2, 'z': 2, 'y': 2, 'd': 1, 'o': 2, 'g': 1, 'j': 1, 'u': 1, 'm': 1, 'p': 2, 's': 2, 'v': 1, ',': 1, 'l': 1, 'i': 1, '.': 1}\n"
     ]
    }
   ],
   "source": [
    "# 14. Write a Python program that takes a sentence as input and counts the number of characters in it\n",
    "\n",
    "def count_chars(txt):\n",
    "    txt = txt.lower()\n",
    "    count = {}\n",
    "    for char in txt:\n",
    "        count[char] = count.get(char,0) + 1\n",
    "    return count\n",
    "\n",
    "sent = 'The \"Crazy Dog\" Jumps Over, The Lazy Ship.'\n",
    "print(count_chars(sent))"
   ]
  },
  {
   "cell_type": "code",
   "execution_count": 25,
   "metadata": {},
   "outputs": [
    {
     "name": "stdout",
     "output_type": "stream",
     "text": [
      "years=4,weeks=14,days=2\n"
     ]
    }
   ],
   "source": [
    "# 15. Write a program that converts a given number of days into years, weeks, and days\n",
    "\n",
    "def convert(Total_days):\n",
    "    years = Total_days//365\n",
    "    weeks = (Total_days - (years * 365))//7\n",
    "    days = Total_days - ((years * 365) + (weeks * 7))\n",
    "    return years,weeks,days\n",
    "\n",
    "years,weeks,days = convert(1560)\n",
    "\n",
    "print(f'{years=},{weeks=},{days=}')"
   ]
  },
  {
   "cell_type": "code",
   "execution_count": 31,
   "metadata": {},
   "outputs": [
    {
     "name": "stdout",
     "output_type": "stream",
     "text": [
      "12\n"
     ]
    }
   ],
   "source": [
    "# 16. Given a list of integers, find the sum of all positive numbers.\n",
    "\n",
    "def sum_of_positive_integers(lst):\n",
    "    sum_ = 0\n",
    "    for num in lst:\n",
    "        if num > 0:\n",
    "            sum_ += num\n",
    "    return sum_\n",
    "\n",
    "x = [-2,4,6,2,-3,-1]\n",
    "print(sum_of_positive_integers(x))"
   ]
  },
  {
   "cell_type": "code",
   "execution_count": 37,
   "metadata": {},
   "outputs": [
    {
     "name": "stdout",
     "output_type": "stream",
     "text": [
      "sum = 6, avg = 1.0\n"
     ]
    }
   ],
   "source": [
    "# 17. Given a list of numbers, find the sum and average\n",
    "\n",
    "def sum_avg(lst):\n",
    "    sum_ = 0\n",
    "    for i in lst:\n",
    "        sum_ += i\n",
    "    avg = sum_/len(lst)\n",
    "    return sum_,avg\n",
    "\n",
    "x = [-2,4,6,2,-3,-1]\n",
    "sum,avg = sum_avg(x)\n",
    "print(f'{sum = }, {avg = }')"
   ]
  },
  {
   "cell_type": "code",
   "execution_count": 39,
   "metadata": {},
   "outputs": [
    {
     "name": "stdout",
     "output_type": "stream",
     "text": [
      "(308.15, 95.0)\n"
     ]
    }
   ],
   "source": [
    "# 18. Write a Python program that takes a temperature in Celsius and converts it to Kelvin & Fahrenheit\n",
    "\n",
    "def convert_temp(num):\n",
    "    K = num + 273.15\n",
    "    F = (num * (9/5)) + 32\n",
    "    return K,F\n",
    "\n",
    "print(convert_temp(35))"
   ]
  },
  {
   "cell_type": "code",
   "execution_count": 54,
   "metadata": {},
   "outputs": [
    {
     "name": "stdout",
     "output_type": "stream",
     "text": [
      "ahseerhS\n",
      "(4, 3, 2, 1)\n",
      "[4, 3, 2, 1]\n",
      "ahseerhS\n",
      "[4, 3, 2, 1]\n",
      "(4, 3, 2, 1)\n"
     ]
    }
   ],
   "source": [
    "# 19. Write a Python program to reverse a given string/iterable\n",
    "\n",
    "def rev(iterable):\n",
    "    return iterable[::-1]\n",
    "\n",
    "print(rev('Shreesha'))\n",
    "print(rev((1,2,3,4)))\n",
    "print(rev([1,2,3,4]))\n",
    "\n",
    "# =============================================================\n",
    "# alternate\n",
    "\n",
    "def reverse_string(iterable):\n",
    "    n = len(iterable)\n",
    "    rev_ = ''\n",
    "    while n != 0:\n",
    "        rev_ = rev_ + iterable[n-1]\n",
    "        n -= 1\n",
    "    return rev_\n",
    "\n",
    "def reverse(iterable):\n",
    "    n = len(iterable)\n",
    "    rev_ = []\n",
    "    while n != 0:\n",
    "        rev_.append(iterable[n-1])\n",
    "        n -= 1\n",
    "    return rev_\n",
    "\n",
    "print(reverse_string('Shreesha'))\n",
    "print(reverse((1,2,3,4)))\n",
    "print(tuple(reverse([1,2,3,4])))"
   ]
  },
  {
   "cell_type": "code",
   "execution_count": 60,
   "metadata": {},
   "outputs": [
    {
     "name": "stdout",
     "output_type": "stream",
     "text": [
      "How are you\n",
      "12 34 25\n"
     ]
    }
   ],
   "source": [
    "# 20. Given a list of names, concatenate them into a single string separated by spaces\n",
    "\n",
    "def concat_string(lst):\n",
    "    return ' '.join(lst)\n",
    "\n",
    "x = ['How','are','you']\n",
    "print(concat_string(x))\n",
    "\n",
    "def concat_nonstring(lst):\n",
    "    return ' '.join(str(item) for item in lst)\n",
    "\n",
    "y = [12,34,25]\n",
    "print(concat_nonstring(y))"
   ]
  },
  {
   "cell_type": "code",
   "execution_count": null,
   "metadata": {},
   "outputs": [],
   "source": []
  }
 ],
 "metadata": {
  "kernelspec": {
   "display_name": "Python 3",
   "language": "python",
   "name": "python3"
  },
  "language_info": {
   "codemirror_mode": {
    "name": "ipython",
    "version": 3
   },
   "file_extension": ".py",
   "mimetype": "text/x-python",
   "name": "python",
   "nbconvert_exporter": "python",
   "pygments_lexer": "ipython3",
   "version": "3.11.0"
  }
 },
 "nbformat": 4,
 "nbformat_minor": 2
}
